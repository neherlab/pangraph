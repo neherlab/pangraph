{
 "cells": [
  {
   "cell_type": "markdown",
   "metadata": {},
   "source": [
    "## data classes\n",
    "\n",
    "Here I define and import the main data classes for pangraph.\n",
    "It contains the following classes:\n",
    "- `Insertion`\n",
    "- `Deletion`\n",
    "- `Substitution`\n",
    "- `Edits`: a collection of in/dels and substitutions. It has a method `apply` that can be used to apply the edits to a reference sequence to obtain a query.\n",
    "- `Node`: a node in a pangraph. It identifies a particular occurrence of a block (i.e. one line in the block alignment)\n",
    "- `Block`: a block in a pangraph. It represents an alignment.\n",
    "- `Path`: a path in a pangraph. It represents a genome as a sequence of blocks.\n",
    "- `Pangraph`: a set of genomes represented as a collection of paths and blocks."
   ]
  },
  {
   "cell_type": "code",
   "execution_count": 1,
   "metadata": {},
   "outputs": [],
   "source": [
    "from pangraph_classes import Insertion, Deletion, Substitution, Edits\n",
    "from pangraph_classes import Node, Block, Path\n",
    "from pangraph_classes import Pangraph"
   ]
  },
  {
   "cell_type": "markdown",
   "metadata": {},
   "source": [
    "Here is an example of utility functions that we might want: apply a set of edits to a reference sequence to obtain a query."
   ]
  },
  {
   "cell_type": "code",
   "execution_count": 2,
   "metadata": {},
   "outputs": [
    {
     "name": "stdout",
     "output_type": "stream",
     "text": [
      "ref = ACCTGGCTTT\n",
      "qry = AGCCTGGTAT\n",
      "edits = Edits(\n",
      "Ins -> Insertion(pos=1, ins=G)\t\n",
      "Del -> Deletion(pos=6, length=1)\t\n",
      "Sub -> Substitution(pos=8, alt=A)\t\n",
      ")\n",
      "              qry = AGCCTGGTAT\n",
      "reconstructed qry = AGCCTGGTAT\n"
     ]
    }
   ],
   "source": [
    "\n",
    "def apply_edits_to_ref(edits: Edits, ref: str) -> str:\n",
    "    \"\"\"\n",
    "    Apply the edits to the reference to obtain the query sequence\n",
    "    \"\"\"\n",
    "    qry = list(ref)\n",
    "    for S in edits.subs:\n",
    "        qry[S.pos] = S.alt\n",
    "    for I in edits.ins:\n",
    "        if I.pos > 0:\n",
    "            qry[I.pos - 1] += I.ins\n",
    "        elif I.pos == 0:\n",
    "            qry[0] = I.ins + qry[0]\n",
    "    for D in edits.dels:\n",
    "        for l in range(D.length):\n",
    "            qry[D.pos + l] = \"\"\n",
    "    return \"\".join(qry)\n",
    "\n",
    "\n",
    "#                    1\n",
    "#          01234567890\n",
    "ref = \"ACCTGGCTTT\"\n",
    "qry = \"AGCCTGGTAT\"\n",
    "\n",
    "I = Insertion(1, \"G\")\n",
    "D = Deletion(6, 1)\n",
    "S = Substitution(8, \"A\")\n",
    "\n",
    "E = Edits([I], [D], [S])\n",
    "\n",
    "print(f\"ref = {ref}\")\n",
    "print(f\"qry = {qry}\")\n",
    "print(f\"edits = {E}\")\n",
    "\n",
    "\n",
    "qry_reconstructed = apply_edits_to_ref(E, ref)\n",
    "print(f\"              qry = {qry}\")\n",
    "print(f\"reconstructed qry = {qry_reconstructed}\")"
   ]
  },
  {
   "cell_type": "markdown",
   "metadata": {},
   "source": [
    "### from ref-qry sequences to set of variations\n",
    "\n",
    "When adding a sequence to a block, the first operation we need to do is to express the query as a function of the reference plus a set of edits."
   ]
  },
  {
   "cell_type": "code",
   "execution_count": 3,
   "metadata": {},
   "outputs": [
    {
     "name": "stdout",
     "output_type": "stream",
     "text": [
      "ACTAGATTGAGTATCTATA\n",
      "ACTAGATTGAGTATCTATA\n"
     ]
    }
   ],
   "source": [
    "# We need a function:\n",
    "def map_variations(ref:str, qry:str) -> Edits:\n",
    "    # use nextalign to align ref to query\n",
    "    # return the set of edits\n",
    "    pass\n",
    "\n",
    "\n",
    "# example alignment\n",
    "#        0            1        \n",
    "#        012   3456789012345678\n",
    "# ref = \"ACT---TTGCGTATTTACTATA\"\n",
    "# qry = \"ACTAGATTGAGTATCT---ATA\"\n",
    "# sub =           x    x\n",
    "# ins =     xxx\n",
    "# del =                  xxx\n",
    "\n",
    "ref = \"ACTTTGCGTATTTACTATA\"\n",
    "qry = \"ACTAGATTGAGTATCTATA\"\n",
    "\n",
    "\n",
    "E = map_variations(ref, qry)\n",
    "\n",
    "E_expected = Edits(\n",
    "    [Insertion(3, \"AGA\")],\n",
    "    [Deletion(13, 3)],\n",
    "    [Substitution(6, \"A\"), Substitution(11, \"C\")],\n",
    "    )\n",
    "\n",
    "print(qry)\n",
    "print(apply_edits_to_ref(E_expected, ref))\n"
   ]
  },
  {
   "cell_type": "markdown",
   "metadata": {},
   "source": [
    "### adding a sequence to a block\n",
    "\n",
    "We want a function to append a sequence to a block. This function should take the query sequence, align it to the block consensus, create a new node and add it to the block."
   ]
  },
  {
   "cell_type": "code",
   "execution_count": 4,
   "metadata": {},
   "outputs": [],
   "source": [
    "# Block\n",
    "#              0         1\n",
    "#              0123456789012345   678\n",
    "# consensus = \"ACTTTGCGTATTTACT---ATA\"\n",
    "# seq_0     = \"AC---GCGTATTTACT---ATA\"\n",
    "# seq_1     = \"ACTTTGCGTATTTACTCCCATA\"\n",
    "# seq_2     = \"ACTTTGCGTATCTACT---ATA\"\n",
    "# sequence to append\n",
    "# seq_new   = \"ACTTTGCGGATTTACT---ATA\"\n",
    "\n",
    "\n",
    "cons = \"ACTTTGCGTATTTACTATA\"\n",
    "E_0 = Edits(\n",
    "    [],\n",
    "    [Deletion(2, 3)],\n",
    "    [],\n",
    "    )\n",
    "E_1 = Edits(\n",
    "    [],\n",
    "    [Insertion(16, \"CCC\")],\n",
    "    [],\n",
    "    )\n",
    "E_2 = Edits(\n",
    "    [],\n",
    "    [],\n",
    "    [Substitution(11, \"C\")],\n",
    "    )\n",
    "\n",
    "aln = {\n",
    "    \"node_0\" : E_0,\n",
    "    \"node_1\" : E_1,\n",
    "    \"node_2\" : E_2,\n",
    "}\n",
    "\n",
    "block = Block(\"bl_0\", cons, aln)\n",
    "\n",
    "def append_sequence(\n",
    "        block:Block,\n",
    "        new_seq:str,\n",
    "        node_id:str,\n",
    "    ):\n",
    "    \"\"\"\n",
    "    Append a sequence to a block\n",
    "    \"\"\"\n",
    "    # find the set of edits\n",
    "    E_new = map_variations(block.consensus, new_seq)\n",
    "    block.alignment[node_id] = E_new\n",
    "\n",
    "\n",
    "# append the sequence to the block    \n",
    "new_seq = \"ACTTTGCGGATTTACTATA\"\n",
    "append_sequence(block, new_seq, \"node_new\")"
   ]
  },
  {
   "cell_type": "code",
   "execution_count": null,
   "metadata": {},
   "outputs": [],
   "source": []
  }
 ],
 "metadata": {
  "kernelspec": {
   "display_name": "bioinfo",
   "language": "python",
   "name": "python3"
  },
  "language_info": {
   "codemirror_mode": {
    "name": "ipython",
    "version": 3
   },
   "file_extension": ".py",
   "mimetype": "text/x-python",
   "name": "python",
   "nbconvert_exporter": "python",
   "pygments_lexer": "ipython3",
   "version": "3.12.1"
  }
 },
 "nbformat": 4,
 "nbformat_minor": 2
}
