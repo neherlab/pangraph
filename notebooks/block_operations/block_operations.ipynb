{
 "cells": [
  {
   "cell_type": "markdown",
   "metadata": {},
   "source": [
    "## data classes\n",
    "\n",
    "Here I define and import the main data classes for pangraph.\n",
    "It contains the following classes:\n",
    "- `Insertion`\n",
    "- `Deletion`\n",
    "- `Substitution`\n",
    "- `Edits`: a collection of in/dels and substitutions. It has a method `apply` that can be used to apply the edits to a reference sequence to obtain a query.\n",
    "- `Node`: a node in a pangraph. It identifies a particular occurrence of a block (i.e. one line in the block alignment)\n",
    "- `Block`: a block in a pangraph. It represents an alignment.\n",
    "- `Path`: a path in a pangraph. It represents a genome as a sequence of blocks.\n",
    "- `Pangraph`: a set of genomes represented as a collection of paths and blocks."
   ]
  },
  {
   "cell_type": "code",
   "execution_count": 1,
   "metadata": {},
   "outputs": [],
   "source": [
    "from pangraph_classes import Insertion, Deletion, Substitution, Edits\n",
    "from pangraph_classes import Node, Block, Path\n",
    "from pangraph_classes import Pangraph"
   ]
  },
  {
   "cell_type": "markdown",
   "metadata": {},
   "source": [
    "Here is an example of utility functions that we might want: apply a set of edits to a reference sequence to obtain a query."
   ]
  },
  {
   "cell_type": "code",
   "execution_count": 2,
   "metadata": {},
   "outputs": [
    {
     "name": "stdout",
     "output_type": "stream",
     "text": [
      "ref = ACCTGGCTTT\n",
      "qry = AGCCTGGTAT\n",
      "edits = Edits(\n",
      "Ins -> Insertion(pos=1, ins=G)\t\n",
      "Del -> Deletion(pos=6, length=1)\t\n",
      "Sub -> Substitution(pos=8, alt=A)\t\n",
      ")\n",
      "              qry = AGCCTGGTAT\n",
      "reconstructed qry = AGCCTGGTAT\n"
     ]
    }
   ],
   "source": [
    "\n",
    "def apply_edits_to_ref(edits: Edits, ref: str) -> str:\n",
    "    \"\"\"\n",
    "    Apply the edits to the reference to obtain the query sequence\n",
    "    \"\"\"\n",
    "    qry = list(ref)\n",
    "    for S in edits.subs:\n",
    "        qry[S.pos] = S.alt\n",
    "    for I in edits.ins:\n",
    "        if I.pos > 0:\n",
    "            qry[I.pos - 1] += I.ins\n",
    "        elif I.pos == 0:\n",
    "            qry[0] = I.ins + qry[0]\n",
    "    for D in edits.dels:\n",
    "        for l in range(D.length):\n",
    "            qry[D.pos + l] = \"\"\n",
    "    return \"\".join(qry)\n",
    "\n",
    "\n",
    "#                    1\n",
    "#          01234567890\n",
    "ref = \"ACCTGGCTTT\"\n",
    "qry = \"AGCCTGGTAT\"\n",
    "\n",
    "I = Insertion(1, \"G\")\n",
    "D = Deletion(6, 1)\n",
    "S = Substitution(8, \"A\")\n",
    "\n",
    "E = Edits([I], [D], [S])\n",
    "\n",
    "print(f\"ref = {ref}\")\n",
    "print(f\"qry = {qry}\")\n",
    "print(f\"edits = {E}\")\n",
    "\n",
    "\n",
    "qry_reconstructed = apply_edits_to_ref(E, ref)\n",
    "print(f\"              qry = {qry}\")\n",
    "print(f\"reconstructed qry = {qry_reconstructed}\")\n",
    "assert qry_reconstructed == qry"
   ]
  },
  {
   "cell_type": "markdown",
   "metadata": {},
   "source": [
    "### from ref-qry sequences to set of variations\n",
    "\n",
    "When adding a sequence to a block, the first operation we need to do is to express the query as a function of the reference plus a set of edits."
   ]
  },
  {
   "cell_type": "code",
   "execution_count": 3,
   "metadata": {},
   "outputs": [
    {
     "name": "stdout",
     "output_type": "stream",
     "text": [
      "ACTAGATTGAGTATCTATA\n",
      "ACTAGATTGAGTATCTATA\n"
     ]
    }
   ],
   "source": [
    "# We need a function:\n",
    "def map_variations(ref:str, qry:str) -> Edits:\n",
    "    \"\"\"Use nextalign to align single ref sequence to\n",
    "    query sequence. Return the set of edits.\"\"\"\n",
    "    pass\n",
    "\n",
    "\n",
    "# example alignment\n",
    "#        0            1        \n",
    "#        012   3456789012345678\n",
    "# ref = \"ACT---TTGCGTATTTACTATA\"\n",
    "# qry = \"ACTAGATTGAGTATCT---ATA\"\n",
    "# sub =           x    x\n",
    "# ins =     xxx\n",
    "# del =                  xxx\n",
    "\n",
    "ref = \"ACTTTGCGTATTTACTATA\"\n",
    "qry = \"ACTAGATTGAGTATCTATA\"\n",
    "\n",
    "\n",
    "E = map_variations(ref, qry)\n",
    "\n",
    "E_expected = Edits(\n",
    "    ins=[Insertion(3, \"AGA\")],\n",
    "    dels=[Deletion(13, 3)],\n",
    "    subs=[Substitution(6, \"A\"), Substitution(11, \"C\")],\n",
    "    )\n",
    "\n",
    "print(qry)\n",
    "print(apply_edits_to_ref(E_expected, ref))\n"
   ]
  },
  {
   "cell_type": "markdown",
   "metadata": {},
   "source": [
    "### adding a sequence to a block\n",
    "\n",
    "We want a function to append a sequence to a block. This function should take the query sequence, align it to the block consensus, create a new node and add it to the block."
   ]
  },
  {
   "cell_type": "code",
   "execution_count": 4,
   "metadata": {},
   "outputs": [],
   "source": [
    "# Block\n",
    "#              0         1\n",
    "#              0123456789012345   678\n",
    "# consensus = \"ACTTTGCGTATTTACT---ATA\"\n",
    "# seq_0     = \"AC---GCGTATTTACT---ATA\"\n",
    "# seq_1     = \"ACTTTGCGTATTTACTCCCATA\"\n",
    "# seq_2     = \"ACTTTGCGTATCTACT---ATA\"\n",
    "# sequence to append\n",
    "# seq_new   = \"ACTTTGCGGATTTACT---ATA\"\n",
    "\n",
    "\n",
    "consensus = \"ACTTTGCGTATTTACTATA\"\n",
    "E_0 = Edits(dels=[Deletion(2, 3)])\n",
    "E_1 = Edits(ins=[Insertion(16, \"CCC\")])\n",
    "E_2 = Edits(subs=[Substitution(11, \"C\")])\n",
    "\n",
    "aln = {\n",
    "    \"node_0\" : E_0,\n",
    "    \"node_1\" : E_1,\n",
    "    \"node_2\" : E_2,\n",
    "}\n",
    "\n",
    "block = Block(\"bl_0\", consensus, aln)\n",
    "\n",
    "def append_sequence(\n",
    "        block:Block,\n",
    "        new_seq:str,\n",
    "        new_node_id:str,\n",
    "    ):\n",
    "    \"\"\"\n",
    "    Append a sequence to a block, and assing the given node_id\n",
    "    \"\"\"\n",
    "    # find the set of edits\n",
    "    E_new = map_variations(block.consensus, new_seq)\n",
    "    # append the edits to the block alignment dictionary\n",
    "    block.alignment[new_node_id] = E_new\n",
    "\n",
    "\n",
    "# append the sequence to the block    \n",
    "new_seq = \"ACTTTGCGGATTTACTATA\"\n",
    "append_sequence(block, new_seq, \"node_new\")\n",
    "\n",
    "E_new_expected = Edits(subs=[Substitution(8, \"G\")])\n",
    "\n",
    "# should be:\n",
    "# block.alignment[\"node_new\"] == E_new_expected"
   ]
  },
  {
   "cell_type": "markdown",
   "metadata": {},
   "source": [
    "### splitting a block\n",
    "\n",
    "When merging one of the first operations we need to do is to split a block on a given set of cut-points. This function should split the consensus and the underlying alignment.\n",
    "\n",
    "The first utility function needed for this is a function that splits the alignment on a given set of positions.\n",
    "\n",
    "Let's consider for example this alignment:\n",
    "```txt\n",
    "            0         1         2         3         \n",
    "            0123456789012345678901234567890123456789\n",
    "consensus = ATCAGTGTATGCTTCTTTGAAACTTGAGTTTGGCGATTCA\n",
    "\n",
    "                GGT\n",
    "    seq_0 = ATCAGTGTATGCTTCTTTG---CTTGAGTTTcGCGATTCA\n",
    "                            AGA\n",
    "    seq_1 = ATCA---TATGCTTCTTTGAAACTTGtGTTTGGCGATTCA\n",
    "                           CTT\n",
    "    seq_2 = ATCAGTGT---CTTCcTTGAAACTTGAGTTTGGCGATTCA\n",
    "```\n",
    "\n",
    "We want to split between positions 9 and 10:\n",
    "\n",
    "```txt\n",
    "0           |  0         1         2         \n",
    "0123456789  |  012345678901234567890123456789\n",
    "ATCAGTGTAT  |  GCTTCTTTGAAACTTGAGTTTGGCGATTCA\n",
    "            |                                \n",
    "    GGT     |         \n",
    "ATCAGTGTAT  |  GCTTCTTTG---CTTGAGTTTcGCGATTCA\n",
    "            |        AGA\n",
    "ATCA---TAT  |  GCTTCTTTGAAACTTGtGTTTGGCGATTCA\n",
    "            |       CTT\n",
    "ATCAGTGT--  |  -CTTCcTTGAAACTTGAGTTTGGCGATTCA\n",
    "```\n",
    "\n",
    "- Insertions and substitutions are easy to split, it just depends on which side of the split they fall.\n",
    "- Deletions are a bit more tricky, because they can be split in two deletions across the split, as in the case of the third sequence.\n",
    "\n",
    "For **insertions that happen on the cut** we might want to pick a side in which to append them by convention, e.g.  the left side."
   ]
  },
  {
   "cell_type": "code",
   "execution_count": 5,
   "metadata": {},
   "outputs": [],
   "source": [
    "aln = {\n",
    "    \"seq_0\" : Edits([Insertion(4, \"GGT\")], [Deletion(19, 3)], [Substitution(31, \"C\")]),\n",
    "    \"seq_1\" : Edits([Insertion(16, \"AGA\")], [Deletion(4, 3)], [Substitution(26, \"T\")]),\n",
    "    \"seq_2\" : Edits([Insertion(15, \"CTT\")], [Deletion(8, 3)], [Substitution(15, \"C\")]),\n",
    "}\n",
    "\n",
    "def split_alignment_line(edits: Edits, pos:int):\n",
    "    \"\"\"function that splits a single alignment line _before_ position `pos`.\n",
    "    `pos` must be between 1 and L (in 0-based indexing), where L is the length of the consensus sequence.\"\"\"\n",
    "    pass\n",
    "\n",
    "E0_split = split_alignment_line(aln[\"seq_0\"], 10)\n",
    "E0_split_expected = [\n",
    "    Edits(ins=[Insertion(4, \"GGT\")]),\n",
    "    Edits(dels=[Deletion(9, 3)], subs=[Substitution(21, \"C\")]),\n",
    "]\n",
    "\n",
    "# splitting a deletion on the cut\n",
    "E2_split = split_alignment_line(aln[\"seq_2\"], 10)\n",
    "E2_split_expected = [\n",
    "    Edits(ins=[Insertion(5, \"CTT\")], dels=[Deletion(0, 1)]),\n",
    "    Edits(dels=[Deletion(8, 2)], subs=[Substitution(5, \"C\")]),\n",
    "]"
   ]
  },
  {
   "cell_type": "markdown",
   "metadata": {},
   "source": [
    "Rather than a single position, the function should accept a list of positions. It should split the alignment on each of the positions, and return a list of alignments."
   ]
  },
  {
   "cell_type": "markdown",
   "metadata": {},
   "source": []
  }
 ],
 "metadata": {
  "kernelspec": {
   "display_name": "bioinfo",
   "language": "python",
   "name": "python3"
  },
  "language_info": {
   "codemirror_mode": {
    "name": "ipython",
    "version": 3
   },
   "file_extension": ".py",
   "mimetype": "text/x-python",
   "name": "python",
   "nbconvert_exporter": "python",
   "pygments_lexer": "ipython3",
   "version": "3.12.1"
  }
 },
 "nbformat": 4,
 "nbformat_minor": 2
}
