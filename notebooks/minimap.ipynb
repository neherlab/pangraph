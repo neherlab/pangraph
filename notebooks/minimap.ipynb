{
 "cells": [
  {
   "cell_type": "code",
   "execution_count": 2,
   "id": "c82ec52f-81e4-42d5-976b-2830651f746d",
   "metadata": {},
   "outputs": [],
   "source": [
    ":dep pangraph = { path = \"../packages/pangraph\" }"
   ]
  },
  {
   "cell_type": "code",
   "execution_count": 3,
   "id": "69312091-1de2-4b0d-a536-6fe59f7cd9be",
   "metadata": {},
   "outputs": [
    {
     "data": {
      "text/plain": [
       "[[Mapping { query_name: None, query_len: Some(200), query_start: 0, query_end: 200, strand: Forward, target_name: Some(\"A\"), target_len: 200, target_start: 0, target_end: 200, match_len: 200, block_len: 200, mapq: 60, is_primary: true, alignment: Some(Alignment { nm: 0, cigar: Some([(200, 0)]), cigar_str: Some(\"200M\"), md: None, cs: None }) }], [], [], [], [], [], [], [], [], []]"
      ]
     },
     "execution_count": 3,
     "metadata": {},
     "output_type": "execute_result"
    }
   ],
   "source": [
    "use pangraph::align::minimap2::align_with_minimap2::align_with_minimap2;\n",
    "use pangraph::io::json::json_stringify;\n",
    "\n",
    "align_with_minimap2(\"../data/smol_01_ref.fa\", \"../data/smol_01.fa\")?"
   ]
  }
 ],
 "metadata": {
  "kernelspec": {
   "display_name": "Rust",
   "language": "rust",
   "name": "rust"
  },
  "language_info": {
   "codemirror_mode": "rust",
   "file_extension": ".rs",
   "mimetype": "text/rust",
   "name": "Rust",
   "pygment_lexer": "rust",
   "version": ""
  }
 },
 "nbformat": 4,
 "nbformat_minor": 5
}
