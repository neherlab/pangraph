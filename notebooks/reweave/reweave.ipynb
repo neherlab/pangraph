{
 "cells": [
  {
   "cell_type": "code",
   "execution_count": 2,
   "metadata": {},
   "outputs": [],
   "source": [
    "from classes import *\n",
    "from collections import defaultdict\n",
    "\n"
   ]
  },
  {
   "cell_type": "code",
   "execution_count": null,
   "metadata": {},
   "outputs": [],
   "source": [
    "def reweave(mergers: list[Alignment], graph: Pangraph) -> tuple[list[MergePromise], Pangraph]:\n",
    "\n",
    "    # assign id to alignments\n",
    "    for i, a in enumerate(mergers):\n",
    "        a.id = i\n",
    "\n",
    "    # extract targeted blocks and corresponding mergers\n",
    "    TB = target_blocks(mergers)\n",
    "\n",
    "    # for every block, split it according to the mergers\n",
    "    U, H = [], []\n",
    "    for bid, M in TB.items(): # can be done in parallel: the graph and block are not modified at this stage\n",
    "        graph_update, half_promises = split_block(bid, M, graph)\n",
    "        U.append(graph_update)\n",
    "        H += half_promises\n",
    "\n",
    "    # group and create merge promises\n",
    "    merge_promises = format_promises(H)\n",
    "\n",
    "    for u in U:\n",
    "        #  inplace graph update\n",
    "        graph.update(u)\n",
    "\n",
    "\n",
    "    return graph, merge_promises"
   ]
  }
 ],
 "metadata": {
  "kernelspec": {
   "display_name": "bioinfo",
   "language": "python",
   "name": "python3"
  },
  "language_info": {
   "codemirror_mode": {
    "name": "ipython",
    "version": 3
   },
   "file_extension": ".py",
   "mimetype": "text/x-python",
   "name": "python",
   "nbconvert_exporter": "python",
   "pygments_lexer": "ipython3",
   "version": "3.12.2"
  }
 },
 "nbformat": 4,
 "nbformat_minor": 2
}
